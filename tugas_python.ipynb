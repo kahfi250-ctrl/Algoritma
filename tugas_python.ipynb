{
  "nbformat": 4,
  "nbformat_minor": 0,
  "metadata": {
    "colab": {
      "provenance": [],
      "authorship_tag": "ABX9TyMaPFicx2uxoTG0ewng5Sxr",
      "include_colab_link": true
    },
    "kernelspec": {
      "name": "python3",
      "display_name": "Python 3"
    },
    "language_info": {
      "name": "python"
    }
  },
  "cells": [
    {
      "cell_type": "markdown",
      "metadata": {
        "id": "view-in-github",
        "colab_type": "text"
      },
      "source": [
        "<a href=\"https://colab.research.google.com/github/kahfi250-ctrl/Algoritma/blob/main/tugas_python.ipynb\" target=\"_parent\"><img src=\"https://colab.research.google.com/assets/colab-badge.svg\" alt=\"Open In Colab\"/></a>"
      ]
    },
    {
      "cell_type": "code",
      "execution_count": null,
      "metadata": {
        "id": "glXXXzasln_G"
      },
      "outputs": [],
      "source": [
        "if 5 > 2:\n",
        "    print(\"Five is greater than two!\")"
      ]
    },
    {
      "cell_type": "markdown",
      "source": [
        "materi tentang variable"
      ],
      "metadata": {
        "id": "TohlNuOImNHQ"
      }
    },
    {
      "cell_type": "code",
      "source": [
        "#contoh variable\n",
        "\n",
        "x = 5 # x bertipe int\n",
        "y = \"John\" # x sekarang bertipe str\n",
        "print(x)\n",
        "print(y)"
      ],
      "metadata": {
        "id": "EFysZI4MmSZ2"
      },
      "execution_count": null,
      "outputs": []
    },
    {
      "cell_type": "markdown",
      "source": [
        "variable menggunakan casting"
      ],
      "metadata": {
        "id": "Sa-g3Boup0so"
      }
    },
    {
      "cell_type": "code",
      "source": [
        "x = str(7)\n",
        "y = int(3)\n",
        "z = float(4)\n",
        "print(x)\n",
        "print(y)\n",
        "print(z)"
      ],
      "metadata": {
        "colab": {
          "base_uri": "https://localhost:8080/"
        },
        "id": "6i061Xy1oJsy",
        "outputId": "7f867dd5-eb84-4ef1-f2c5-83d56978d140"
      },
      "execution_count": null,
      "outputs": [
        {
          "output_type": "stream",
          "name": "stdout",
          "text": [
            "7\n",
            "3\n",
            "4.0\n"
          ]
        }
      ]
    },
    {
      "cell_type": "code",
      "source": [
        "x = \"kapi\"\n",
        "# is the same as\n",
        "y = 'tegar'\n",
        "print(x)\n",
        "print(y)"
      ],
      "metadata": {
        "colab": {
          "base_uri": "https://localhost:8080/"
        },
        "id": "pG-pqJCFqbFt",
        "outputId": "fddb0ea6-c4ae-49e7-dad7-468f1b4b70d4"
      },
      "execution_count": null,
      "outputs": [
        {
          "output_type": "stream",
          "name": "stdout",
          "text": [
            "kapi\n",
            "tegar\n"
          ]
        }
      ]
    },
    {
      "cell_type": "code",
      "source": [
        "#program studi kasus kecocokan berteman\n",
        "\n",
        "a = input (\"masukan nama teman pertama :\")\n",
        "b = input (\"masukan nama teman kedua :\")\n",
        "\n",
        "print (\"berdasarkan hasil survei :\" ,a ,\" dan \" ,b ,\" adalah teman yang cocok\")"
      ],
      "metadata": {
        "colab": {
          "base_uri": "https://localhost:8080/"
        },
        "id": "FvWTvWliq0Gj",
        "outputId": "08810c05-430c-40d9-d919-886d3ed1d667"
      },
      "execution_count": 1,
      "outputs": [
        {
          "output_type": "stream",
          "name": "stdout",
          "text": [
            "masukan nama teman pertama :eljar\n",
            "masukan nama teman kedua :ganjar\n",
            "berdasarkan hasil survei : eljar  dan  ganjar  adalah teman yang cocok\n"
          ]
        }
      ]
    },
    {
      "cell_type": "code",
      "source": [
        "#studi kasus aplikasi horoscrop\n",
        "\n",
        "a = input (\"masukan pasangan 1 : \")\n",
        "b = input (\"masukan pasangan 2 : \")\n",
        "\n",
        "print (\" hasil survei antara pasangan\", a,  \"dan pasangan\", b, \"adalah pasangan yang cocok\")"
      ],
      "metadata": {
        "colab": {
          "base_uri": "https://localhost:8080/"
        },
        "id": "i5_VNUmvsBMI",
        "outputId": "08e5c703-9a84-49f1-bd2c-c4311a54e44b"
      },
      "execution_count": 2,
      "outputs": [
        {
          "output_type": "stream",
          "name": "stdout",
          "text": [
            "masukan pasangan 1 : joko\n",
            "masukan pasangan 2 : widodo\n",
            " hasil survei antara pasangan joko dan pasangan widodo adalah pasangan yang cocok\n"
          ]
        }
      ]
    },
    {
      "cell_type": "code",
      "source": [
        "#studi kasus pembagian apel untuk dua orang teman di acara apple day\n",
        "a = 500\n",
        "b = input (\"masukan nama teman pertama :\")\n",
        "c = input (\"masukan nama teman kedua :\")\n",
        "d = int(a) / 2\n",
        "print (b,\"mendapatkan buah apel sebanyak\", d, \"buah. Dan si\", c,\"mendapatkan buah apel sebanyak\", d)"
      ],
      "metadata": {
        "id": "qfMXuRGctTgj",
        "colab": {
          "base_uri": "https://localhost:8080/"
        },
        "outputId": "58030b24-b653-410f-934b-6aecebb1ce6e"
      },
      "execution_count": 4,
      "outputs": [
        {
          "output_type": "stream",
          "name": "stdout",
          "text": [
            "masukan nama teman pertama :akmal\n",
            "masukan nama teman kedua :yanto\n",
            "akmal mendapatkan buah apel sebanyak 250.0 buah. Dan si yanto mendapatkan buah apel sebanyak 250.0\n"
          ]
        }
      ]
    },
    {
      "cell_type": "code",
      "source": [
        "#studi kasus tentang penghitungan bangun ruang\n",
        "import math\n",
        "\n",
        "def hitung_luas_persegi(sisi):\n",
        "  \"\"\"Menghitung luas persegi.\"\"\"\n",
        "  return sisi * sisi\n",
        "\n",
        "def hitung_keliling_persegi(sisi):\n",
        "  \"\"\"Menghitung keliling persegi.\"\"\"\n",
        "  return 4 * sisi\n",
        "\n",
        "def hitung_luas_persegi_panjang(panjang, lebar):\n",
        "  \"\"\"Menghitung luas persegi panjang.\"\"\"\n",
        "  return panjang * lebar\n",
        "\n",
        "def hitung_keliling_persegi_panjang(panjang, lebar):\n",
        "  \"\"\"Menghitung keliling persegi panjang.\"\"\"\n",
        "  return 2 * (panjang + lebar)\n",
        "\n",
        "def hitung_luas_lingkaran(jari_jari):\n",
        "  \"\"\"Menghitung luas lingkaran.\"\"\"\n",
        "  return math.pi * jari_jari**2\n",
        "\n",
        "def hitung_keliling_lingkaran(jari_jari):\n",
        "  \"\"\"Menghitung keliling lingkaran.\"\"\"\n",
        "  return 2 * math.pi * jari_jari\n",
        "\n",
        "# Input dari pengguna\n",
        "bentuk = input(\"Masukkan bentuk bangun datar (persegi, persegi panjang, lingkaran, segitiga, trapesium, jajar genjang, layang-layang, belah ketupat): \")\n",
        "\n",
        "if bentuk.lower() == \"persegi\":\n",
        "  sisi = float(input(\"Masukkan panjang sisi: \"))\n",
        "  luas = hitung_luas_persegi(sisi)\n",
        "  keliling = hitung_keliling_persegi(sisi)\n",
        "elif bentuk.lower() == \"persegi panjang\":\n",
        "  panjang = float(input(\"Masukkan panjang: \"))\n",
        "  lebar = float(input(\"Masukkan lebar: \"))\n",
        "  luas = hitung_luas_persegi_panjang(panjang, lebar)\n",
        "  keliling = hitung_keliling_persegi_panjang(panjang, lebar)\n",
        "elif bentuk.lower() == \"lingkaran\":\n",
        "  jari_jari = float(input(\"Masukkan jari-jari: \"))\n",
        "  luas = hitung_luas_lingkaran(jari_jari)\n",
        "  keliling = hitung_keliling_lingkaran(jari_jari)\n",
        "elif bentuk.lower() == \"segitiga\":\n",
        "  alas = float(input(\"Masukkan alas: \"))\n",
        "  tinggi = float(input(\"Masukkan tinggi: \"))\n",
        "  luas = 0.5 * alas * tinggi\n",
        "  keliling = alas * 3\n",
        "elif bentuk.lower() == \"trapesium\":\n",
        "  sisi_atas = float(input(\"Masukkan panjang sisi atas: \"))\n",
        "  sisi_bawah = float(input(\"Masukkan panjang sisi bawah: \"))\n",
        "  tinggi = float(input(\"Masukkan tinggi: \"))\n",
        "  luas = 0\n",
        "elif bentuk.lower() == \"jajar genjang\":\n",
        "  alas = float(input(\"Masukkan panjang alas: \"))\n",
        "  tinggi = float(input(\"Masukkan tinggi: \"))\n",
        "  luas = alas * tinggi\n",
        "  keliling = 2 * (alas + tinggi)\n",
        "elif bentuk.lower() == \"belah ketupat\":\n",
        "  diagonal_satu = float(input(\"Masukkan panjang diagonal satu: \"))\n",
        "  diagonal_dua = float(input(\"Masukkan panjang diagonal dua: \"))\n",
        "  luas = 0.5 * diagonal_satu * diagonal_dua\n",
        "elif bentuk.lower() == \"layang-layang\":\n",
        "  diagonal_satu = float(input(\"Masukkan panjang diagonal satu: \"))\n",
        "  diagonal_dua = float(input(\"Masukkan panjang diagonal dua: \"))\n",
        "  luas = 0.5 * diagonal_satu * diagonal_dua\n",
        "else:\n",
        "  print(\"Bentuk bangun datar tidak valid.\")\n",
        "  exit()\n",
        "\n",
        "# Menampilkan hasil\n",
        "print(\"Luas:\", luas)\n",
        "print(\"Keliling:\", keliling)"
      ],
      "metadata": {
        "colab": {
          "base_uri": "https://localhost:8080/"
        },
        "id": "T4I70U6LUBmF",
        "outputId": "6e50043c-ec3d-4954-b498-5bd5a26565cf"
      },
      "execution_count": 6,
      "outputs": [
        {
          "output_type": "stream",
          "name": "stdout",
          "text": [
            "Masukkan bentuk bangun datar (persegi, persegi panjang, lingkaran, segitiga, trapesium, jajar genjang, layang-layang, belah ketupat): segitiga\n",
            "Masukkan alas: 5\n",
            "Masukkan tinggi: 19\n",
            "Luas: 47.5\n",
            "Keliling: 15.0\n"
          ]
        }
      ]
    },
    {
      "cell_type": "code",
      "source": [
        "import random\n",
        "\n",
        "# Jumlah data yang ingin dibuat untuk setiap set\n",
        "jumlah_data = 10\n",
        "\n",
        "# Membuat set data pertama\n",
        "data1 = [random.randint(1, 100) for _ in range(jumlah_data)]\n",
        "\n",
        "# Membuat set data kedua\n",
        "data2 = [random.randint(1, 100) for _ in range(jumlah_data)]\n",
        "\n",
        "# Menampilkan kedua set data\n",
        "print(\"Data 1:\", data1)\n",
        "print(\"Data 2:\", data2)"
      ],
      "metadata": {
        "id": "DvGodHnvc4Rd",
        "outputId": "c5d7bac1-ea97-4966-8740-144abd6d915b",
        "colab": {
          "base_uri": "https://localhost:8080/"
        }
      },
      "execution_count": 1,
      "outputs": [
        {
          "output_type": "stream",
          "name": "stdout",
          "text": [
            "Data 1: [45, 53, 92, 73, 8, 97, 86, 100, 11, 8]\n",
            "Data 2: [50, 26, 16, 92, 84, 90, 8, 89, 25, 93]\n"
          ]
        }
      ]
    },
    {
      "cell_type": "code",
      "source": [
        "import random\n",
        "\n",
        "# Jumlah data yang ingin dibuat untuk setiap set\n",
        "jumlah_data = 10\n",
        "\n",
        "# Membuat set data pertama\n",
        "data1 = [random.randint(1, 100) for _ in range(jumlah_data)]\n",
        "\n",
        "# Membuat set data kedua\n",
        "data2 = [random.randint(1, 100) for _ in range(jumlah_data)]\n",
        "\n",
        "# Menampilkan kedua set data\n",
        "print(\"Data 1:\", data1)\n",
        "print(\"Data 2:\", data2)\n",
        "\n",
        "# Mencari angka terbesar dan terkecil di data1\n",
        "terbesar_data1 = max(data1)\n",
        "terkecil_data1 = min(data1)\n",
        "\n",
        "# Mencari angka terbesar dan terkecil di data2\n",
        "terbesar_data2 = max(data2)\n",
        "terkecil_data2 = min(data2)\n",
        "\n",
        "# Menampilkan hasil\n",
        "print(\"\\nData 1:\")\n",
        "print(\"Terbesar:\", terbesar_data1)\n",
        "print(\"Terkecil:\", terkecil_data1)\n",
        "\n",
        "print(\"\\nData 2:\")\n",
        "print(\"Terbesar:\", terbesar_data2)\n",
        "print(\"Terkecil:\", terkecil_data2)"
      ],
      "metadata": {
        "id": "SgoPdQqRdVPS",
        "outputId": "ab8d65c8-097d-4bba-96df-44f50e64a6ee",
        "colab": {
          "base_uri": "https://localhost:8080/"
        }
      },
      "execution_count": 2,
      "outputs": [
        {
          "output_type": "stream",
          "name": "stdout",
          "text": [
            "Data 1: [72, 90, 21, 51, 11, 34, 24, 19, 70, 80]\n",
            "Data 2: [67, 58, 66, 49, 90, 52, 25, 18, 1, 31]\n",
            "\n",
            "Data 1:\n",
            "Terbesar: 90\n",
            "Terkecil: 11\n",
            "\n",
            "Data 2:\n",
            "Terbesar: 90\n",
            "Terkecil: 1\n"
          ]
        }
      ]
    }
  ]
}