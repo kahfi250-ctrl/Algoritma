{
  "nbformat": 4,
  "nbformat_minor": 0,
  "metadata": {
    "colab": {
      "provenance": [],
      "authorship_tag": "ABX9TyON95eM601gKUQgIUmIaY7b",
      "include_colab_link": true
    },
    "kernelspec": {
      "name": "python3",
      "display_name": "Python 3"
    },
    "language_info": {
      "name": "python"
    }
  },
  "cells": [
    {
      "cell_type": "markdown",
      "metadata": {
        "id": "view-in-github",
        "colab_type": "text"
      },
      "source": [
        "<a href=\"https://colab.research.google.com/github/kahfi250-ctrl/Algoritma/blob/main/Algoritma.ipynb\" target=\"_parent\"><img src=\"https://colab.research.google.com/assets/colab-badge.svg\" alt=\"Open In Colab\"/></a>"
      ]
    },
    {
      "cell_type": "code",
      "execution_count": 3,
      "metadata": {
        "colab": {
          "base_uri": "https://localhost:8080/"
        },
        "id": "AuLXf1SYgV1O",
        "outputId": "1e457f8a-14f6-4385-d823-4c3a212f9393"
      },
      "outputs": [
        {
          "output_type": "execute_result",
          "data": {
            "text/plain": [
              "5"
            ]
          },
          "metadata": {},
          "execution_count": 3
        }
      ],
      "source": [
        "b=5\n",
        "\n",
        "b"
      ]
    },
    {
      "cell_type": "markdown",
      "source": [
        "Haloo semuanyaaa, apa kabarr"
      ],
      "metadata": {
        "id": "XTGSSpcOjQDQ"
      }
    },
    {
      "cell_type": "markdown",
      "source": [
        "Sebelum itu mari kita berdoa sebelum memulai pelajaran hari ini"
      ],
      "metadata": {
        "id": "l69ZcbuLjQQf"
      }
    },
    {
      "cell_type": "markdown",
      "source": [
        "Apa itu Algoritma??, Algoritma adalah penyelesian masalah dengan logis dan logika"
      ],
      "metadata": {
        "id": "cKNYt68AgicH"
      }
    },
    {
      "cell_type": "markdown",
      "source": [
        "algoritma terdiri dari berbagai macam"
      ],
      "metadata": {
        "id": "unZO0r9CgdA0"
      }
    }
  ]
}