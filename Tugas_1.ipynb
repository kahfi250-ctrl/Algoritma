{
  "nbformat": 4,
  "nbformat_minor": 0,
  "metadata": {
    "colab": {
      "provenance": [],
      "authorship_tag": "ABX9TyPYrFPQ3hBV4o0kPHSm1vKn",
      "include_colab_link": true
    },
    "kernelspec": {
      "name": "python3",
      "display_name": "Python 3"
    },
    "language_info": {
      "name": "python"
    }
  },
  "cells": [
    {
      "cell_type": "markdown",
      "metadata": {
        "id": "view-in-github",
        "colab_type": "text"
      },
      "source": [
        "<a href=\"https://colab.research.google.com/github/kahfi250-ctrl/Algoritma/blob/main/Tugas_1.ipynb\" target=\"_parent\"><img src=\"https://colab.research.google.com/assets/colab-badge.svg\" alt=\"Open In Colab\"/></a>"
      ]
    },
    {
      "cell_type": "code",
      "execution_count": null,
      "metadata": {
        "id": "hT5VqN93LDwn"
      },
      "outputs": [],
      "source": []
    },
    {
      "cell_type": "markdown",
      "source": [
        "tugas catatan pplg tentang algoritma"
      ],
      "metadata": {
        "id": "ulAQlbe3LEoY"
      }
    },
    {
      "cell_type": "markdown",
      "source": [
        "tugasnya ada didalam google drive pak"
      ],
      "metadata": {
        "id": "QiHhDoSvNLGP"
      }
    },
    {
      "cell_type": "markdown",
      "source": [
        "[Google Drive](https://drive.google.com/drive/folders/1u5qgkcZJaNGU9O_QG07tpVGmQE2N_4b5?usp=drive_link)"
      ],
      "metadata": {
        "id": "vGFS2SHLLIUY"
      }
    }
  ]
}